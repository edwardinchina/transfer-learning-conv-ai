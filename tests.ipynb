{
 "cells": [
  {
   "cell_type": "code",
   "execution_count": 5,
   "id": "6365a94d-3c5f-46f7-9799-5ff32f2e98ff",
   "metadata": {},
   "outputs": [],
   "source": [
    "import utils"
   ]
  },
  {
   "cell_type": "code",
   "execution_count": 2,
   "id": "569ce59d-ec90-4277-b9b3-6fabe0393469",
   "metadata": {},
   "outputs": [
    {
     "name": "stdout",
     "output_type": "stream",
     "text": [
      "tmp/README.md downloaded to file path tmp/README.md successfully\n"
     ]
    }
   ],
   "source": [
    "utils.download_blob(\"coach-in-your-pocket\", \"tmp/README.md\", \"tmp/README.md\")"
   ]
  },
  {
   "cell_type": "code",
   "execution_count": 10,
   "id": "4675278b-1dbb-440e-aee6-97db18112656",
   "metadata": {},
   "outputs": [
    {
     "name": "stdout",
     "output_type": "stream",
     "text": [
      "DialoGPT_large_pretrained/config.json downloaded to file path DialoGPT_large_pretrained/config.json successfully\n"
     ]
    }
   ],
   "source": [
    "utils.download_blob(\"coach-in-your-pocket\", \"DialoGPT_large_pretrained/config.json\", \"DialoGPT_large_pretrained/config.json\")"
   ]
  },
  {
   "cell_type": "code",
   "execution_count": 11,
   "id": "f4d0ca69-17af-4ae2-adb7-38445d4c2f59",
   "metadata": {},
   "outputs": [
    {
     "name": "stdout",
     "output_type": "stream",
     "text": [
      "runs/Jun10_02-44-49_emtichell-pytorch-1-11-20220605-154500_openai-gpt/pytorch_model.bin uploaded to Storage Bucket with blob name DialoGPT_large_pretrained/pytorch_model.bin successfully.\n"
     ]
    }
   ],
   "source": [
    "utils.upload_blob(\"coach-in-your-pocket\", \"runs/Jun10_02-44-49_emtichell-pytorch-1-11-20220605-154500_openai-gpt/pytorch_model.bin\", \"DialoGPT_large_pretrained/pytorch_model.bin\")"
   ]
  },
  {
   "cell_type": "code",
   "execution_count": 12,
   "id": "8c86799b-976d-4c32-8d2d-e39b259364aa",
   "metadata": {},
   "outputs": [
    {
     "name": "stdout",
     "output_type": "stream",
     "text": [
      "runs/Jun10_02-44-49_emtichell-pytorch-1-11-20220605-154500_openai-gpt/model_training_args.bin uploaded to Storage Bucket with blob name DialoGPT_large_pretrained/model_training_args.bin successfully.\n"
     ]
    }
   ],
   "source": [
    "utils.upload_blob(\"coach-in-your-pocket\", \"runs/Jun10_02-44-49_emtichell-pytorch-1-11-20220605-154500_openai-gpt/model_training_args.bin\", \"DialoGPT_large_pretrained/model_training_args.bin\")"
   ]
  },
  {
   "cell_type": "code",
   "execution_count": 13,
   "id": "b9acb0eb-273b-496b-92d4-b16d7a5bb2f0",
   "metadata": {},
   "outputs": [
    {
     "name": "stdout",
     "output_type": "stream",
     "text": [
      "runs/Jun10_02-44-49_emtichell-pytorch-1-11-20220605-154500_openai-gpt/config.json uploaded to Storage Bucket with blob name DialoGPT_large_pretrained/config.json successfully.\n"
     ]
    }
   ],
   "source": [
    "utils.upload_blob(\"coach-in-your-pocket\", \"runs/Jun10_02-44-49_emtichell-pytorch-1-11-20220605-154500_openai-gpt/config.json\", \"DialoGPT_large_pretrained/config.json\")"
   ]
  },
  {
   "cell_type": "code",
   "execution_count": null,
   "id": "adf63c4f-9c4b-4ba1-916b-151e2e68a8bd",
   "metadata": {},
   "outputs": [],
   "source": []
  }
 ],
 "metadata": {
  "environment": {
   "kernel": "python3",
   "name": "pytorch-gpu.1-11.m93",
   "type": "gcloud",
   "uri": "gcr.io/deeplearning-platform-release/pytorch-gpu.1-11:m93"
  },
  "kernelspec": {
   "display_name": "Python 3",
   "language": "python",
   "name": "python3"
  },
  "language_info": {
   "codemirror_mode": {
    "name": "ipython",
    "version": 3
   },
   "file_extension": ".py",
   "mimetype": "text/x-python",
   "name": "python",
   "nbconvert_exporter": "python",
   "pygments_lexer": "ipython3",
   "version": "3.7.12"
  }
 },
 "nbformat": 4,
 "nbformat_minor": 5
}
